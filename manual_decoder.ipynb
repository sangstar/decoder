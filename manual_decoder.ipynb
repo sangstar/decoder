{
 "cells": [
  {
   "cell_type": "code",
   "execution_count": 1,
   "id": "029387bb-eb49-4068-bbf7-c39c07cd8d31",
   "metadata": {},
   "outputs": [],
   "source": [
    "from utils import glove_embeddings\n",
    "import scipy"
   ]
  },
  {
   "cell_type": "code",
   "execution_count": 4,
   "id": "bd0ee53c-2b10-41a1-8697-c38e75ce3f06",
   "metadata": {},
   "outputs": [
    {
     "name": "stdout",
     "output_type": "stream",
     "text": [
      "torch.Size([100])\n"
     ]
    }
   ],
   "source": [
    "import torch\n",
    "import torch.nn as nn\n",
    "import torch.nn.functional as F\n",
    "\n",
    "device = torch.device(\"cuda\" if torch.cuda.is_available() else \"cpu\")\n",
    "torch.set_default_device(device)\n",
    "\n",
    "# Assuming glove_embeddings is a PyTorch tensor\n",
    "vocab_len = len(glove_embeddings)\n",
    "num_hidden_layer_neurons = 128\n",
    "max_input_length = 25\n",
    "max_output_length = 100\n",
    "\n",
    "W1 = torch.rand(max_input_length, num_hidden_layer_neurons)\n",
    "W2 = torch.rand(num_hidden_layer_neurons, max_output_length)\n",
    "\n",
    "b1 = torch.randn(num_hidden_layer_neurons)\n",
    "b2 = torch.randn(max_output_length)\n",
    "\n",
    "assert W1.shape == (max_input_length, num_hidden_layer_neurons)\n",
    "assert W2.shape == (num_hidden_layer_neurons, max_output_length)\n",
    "\n",
    "class FeedForwardNetwork(nn.Module):\n",
    "    def __init__(self):\n",
    "        super(FeedForwardNetwork, self).__init__()\n",
    "        self.W1 = nn.Parameter(W1)\n",
    "        self.W2 = nn.Parameter(W2)\n",
    "        self.b1 = nn.Parameter(b1)\n",
    "        self.b2 = nn.Parameter(b2)\n",
    "\n",
    "    def forward(self, x):\n",
    "        # x will be the context vector (output of the attention heads)\n",
    "        x = torch.matmul(x, self.W1) + self.b1\n",
    "        x = F.relu(x)  # ReLU activation\n",
    "        x = torch.matmul(x, self.W2) + self.b2\n",
    "        return x\n",
    "\n",
    "def scaled_dot_product_attention(query, key, value, mask=None):\n",
    "    attention_weights_matrix = torch.matmul(key, query.transpose(0, 1)) / torch.sqrt(torch.tensor(len(query[-1])))\n",
    "    softmaxed_attention_weights_matrix = F.softmax(attention_weights_matrix, dim=-1)\n",
    "    context_vector = torch.matmul(softmaxed_attention_weights_matrix, value)\n",
    "    return context_vector\n",
    "\n",
    "# Usage example\n",
    "context_vector = torch.randn(max_input_length)\n",
    "ffn = FeedForwardNetwork()\n",
    "output = ffn(context_vector)\n",
    "print(output.shape)\n"
   ]
  },
  {
   "cell_type": "code",
   "execution_count": null,
   "id": "eb321483-67c9-4845-ace7-e81247b7d207",
   "metadata": {},
   "outputs": [],
   "source": []
  }
 ],
 "metadata": {
  "kernelspec": {
   "display_name": "decoder",
   "language": "python",
   "name": "decoder"
  },
  "language_info": {
   "codemirror_mode": {
    "name": "ipython",
    "version": 3
   },
   "file_extension": ".py",
   "mimetype": "text/x-python",
   "name": "python",
   "nbconvert_exporter": "python",
   "pygments_lexer": "ipython3",
   "version": "3.10.12"
  }
 },
 "nbformat": 4,
 "nbformat_minor": 5
}
