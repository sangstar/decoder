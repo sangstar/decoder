{
 "cells": [
  {
   "cell_type": "code",
   "execution_count": 1,
   "id": "029387bb-eb49-4068-bbf7-c39c07cd8d31",
   "metadata": {},
   "outputs": [],
   "source": [
    "from utils import glove_embeddings\n",
    "import scipy"
   ]
  },
  {
   "cell_type": "code",
   "execution_count": 2,
   "id": "f10815c5-4cd1-42b6-bff4-ecee0f67590a",
   "metadata": {},
   "outputs": [],
   "source": [
    "import numpy as np\n",
    "vocab_len = len(glove_embeddings)\n",
    "num_hidden_layer_neurons = 128\n",
    "max_input_length = 25\n",
    "max_output_length = 100\n",
    "\n",
    "W1 = np.random.rand(max_input_length, num_hidden_layer_neurons)\n",
    "W2 = np.random.rand(num_hidden_layer_neurons, max_output_length)\n",
    "\n",
    "b1 = np.random.normal()\n",
    "b2 = np.random.normal()\n",
    "\n",
    "\n",
    "assert W1.shape == (max_input_length, num_hidden_layer_neurons)\n",
    "assert W2.shape == (num_hidden_layer_neurons, max_output_length)"
   ]
  },
  {
   "cell_type": "code",
   "execution_count": 3,
   "id": "259e3c6b-b156-4791-a9d1-cf58cefe30bb",
   "metadata": {},
   "outputs": [],
   "source": [
    "def feed_forward_network(x):\n",
    "  # x will be the context vector (output of the attention heads)\n",
    "    x = np.matmul(x, W1) + b1\n",
    "    x = np.maximum(x, 0)  # ReLU activation\n",
    "    x = np.matmul(x, W2) + b2\n",
    "    return x"
   ]
  },
  {
   "cell_type": "code",
   "execution_count": 4,
   "id": "22be0b20-4260-4aeb-922e-c1715a2c68c6",
   "metadata": {},
   "outputs": [],
   "source": [
    "from scipy.special import softmax\n",
    "\n",
    "def scaled_dot_product_attention(query, key, value, mask = None):\n",
    "  attention_weights_matrix = np.matmul(key,query.T)/np.sqrt(len(query[-1]))\n",
    "  softmaxed_attention_weights_matrix = softmax(attention_weights_matrix)\n",
    "  context_vector = np.matmul(softmaxed_attention_weights_matrix, value)\n",
    "\n",
    "  return context_vector"
   ]
  },
  {
   "cell_type": "code",
   "execution_count": null,
   "id": "bd0ee53c-2b10-41a1-8697-c38e75ce3f06",
   "metadata": {},
   "outputs": [],
   "source": []
  }
 ],
 "metadata": {
  "kernelspec": {
   "display_name": "decoder",
   "language": "python",
   "name": "decoder"
  },
  "language_info": {
   "codemirror_mode": {
    "name": "ipython",
    "version": 3
   },
   "file_extension": ".py",
   "mimetype": "text/x-python",
   "name": "python",
   "nbconvert_exporter": "python",
   "pygments_lexer": "ipython3",
   "version": "3.10.12"
  }
 },
 "nbformat": 4,
 "nbformat_minor": 5
}
